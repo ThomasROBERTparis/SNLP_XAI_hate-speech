{
 "cells": [
  {
   "cell_type": "code",
   "execution_count": 1,
   "id": "1dc3edf6",
   "metadata": {},
   "outputs": [],
   "source": [
    "# This code is originally obtained from https://github.com/paul-rottger/hatecheck-experiments and modified."
   ]
  },
  {
   "cell_type": "code",
   "execution_count": 2,
   "id": "582f5ef6",
   "metadata": {},
   "outputs": [
    {
     "name": "stderr",
     "output_type": "stream",
     "text": [
      "/users/eleves-b/2021/thomas.robert.x21/.local/lib/python3.9/site-packages/pandas/core/computation/expressions.py:21: UserWarning: Pandas requires version '2.8.4' or newer of 'numexpr' (version '2.8.3' currently installed).\n",
      "  from pandas.core.computation.check import NUMEXPR_INSTALLED\n",
      "/users/eleves-b/2021/thomas.robert.x21/.local/lib/python3.9/site-packages/pandas/core/arrays/masked.py:60: UserWarning: Pandas requires version '1.3.6' or newer of 'bottleneck' (version '1.3.5' currently installed).\n",
      "  from pandas.core import (\n"
     ]
    }
   ],
   "source": [
    "import numpy as np\n",
    "import pandas as pd\n",
    "import pickle\n",
    "import argparse\n",
    "import torch\n",
    "from transformers import BertTokenizerFast, BertForSequenceClassification, Trainer, TrainingArguments\n",
    "from sklearn.metrics import classification_report, f1_score\n",
    "from sklearn.utils.class_weight import compute_class_weight\n",
    "import os\n",
    "import random\n",
    "#os.environ[\"TOKENIZERS_PARALLELISM\"] = \"false\"\n",
    "\n",
    "import wandb\n",
    "\n",
    "DEVICE = torch.device(\"cuda\" if torch.cuda.is_available() else \"cpu\")"
   ]
  },
  {
   "cell_type": "code",
   "execution_count": 3,
   "id": "eba22380",
   "metadata": {},
   "outputs": [],
   "source": [
    "class HateDataset(torch.utils.data.Dataset):\n",
    "    def __init__(self, encodings, labels):\n",
    "        self.encodings = encodings\n",
    "        self.labels = labels\n",
    "\n",
    "    def __getitem__(self, idx):\n",
    "        item = {key: val[idx] for key, val in self.encodings.items()}\n",
    "        item['labels'] = self.labels[idx]\n",
    "        return item\n",
    "\n",
    "    def __len__(self):\n",
    "        return len(self.labels)"
   ]
  },
  {
   "cell_type": "code",
   "execution_count": 4,
   "id": "b727284e",
   "metadata": {},
   "outputs": [],
   "source": [
    "class WeightedTrainer(Trainer):\n",
    "    def __init__(self, class_weights, **kwargs):\n",
    "       # self.class_weights = torch.FloatTensor(class_weights)\n",
    "        self.weighted_loss = torch.nn.CrossEntropyLoss(weight=torch.FloatTensor(class_weights)).to(DEVICE)\n",
    "        super().__init__(**kwargs)\n",
    "\n",
    "    def compute_loss(self, model, inputs, return_outputs=False):\n",
    "        labels = inputs.pop(\"labels\")\n",
    "        outputs = model(**inputs)\n",
    "        logits = outputs[0]\n",
    "        loss = self.weighted_loss(logits, labels)\n",
    "        if return_outputs:\n",
    "            return loss, outputs\n",
    "        else:\n",
    "            return loss"
   ]
  },
  {
   "cell_type": "code",
   "execution_count": null,
   "id": "47e9f383",
   "metadata": {},
   "outputs": [],
   "source": [
    "def create_datasets(data_dir, tokenizer):\n",
    "    torch.manual_seed(42)\n",
    "    train_df = pd.read_csv(data_dir + \"/train.csv\")\n",
    "    train_df = train_df.dropna()\n",
    "    valid_df = pd.read_csv(data_dir + \"/valid.csv\")\n",
    "    valid_df = valid_df.dropna()\n",
    "    test_df = pd.read_csv(data_dir + \"/test.csv\")\n",
    "    test_df = test_df.dropna()\n",
    "\n",
    "    train_texts = train_df['text'].astype(\"string\").tolist()\n",
    "    valid_texts = valid_df['text'].astype(\"string\").tolist()\n",
    "    test_texts = test_df['text'].astype(\"string\").tolist()\n",
    "\n",
    "    train_labels = train_df['label'].astype(\"int\").tolist()\n",
    "    valid_labels = valid_df['label'].astype(\"int\").tolist()\n",
    "    test_labels = test_df['label'].astype(\"int\").tolist()\n",
    "\n",
    "    # add special tokens for URLs, emojis and mentions (--> see pre-processing)\n",
    "    special_tokens_dict = {'additional_special_tokens': ['[USER]', '[EMOJI]', '[URL]']}\n",
    "    num_added_toks = tokenizer.add_special_tokens(special_tokens_dict)\n",
    "\n",
    "    train_encodings = tokenizer(train_texts, padding=True, truncation=True, return_tensors=\"pt\")#.to(DEVICE)\n",
    "    valid_encodings = tokenizer(valid_texts, padding=True, truncation=True, return_tensors=\"pt\")#.to(DEVICE)\n",
    "    test_encodings = tokenizer(test_texts, padding=True, truncation=True, return_tensors=\"pt\")\n",
    "\n",
    "    train_dataset = HateDataset(train_encodings, train_labels)\n",
    "    valid_dataset = HateDataset(valid_encodings, valid_labels)\n",
    "    test_dataset = HateDataset(test_encodings, test_labels)\n",
    "    tok_len = len(tokenizer)\n",
    "\n",
    "    return train_dataset, valid_dataset, test_dataset, tok_len"
   ]
  },
  {
   "cell_type": "code",
   "execution_count": 6,
   "id": "6993e17a",
   "metadata": {},
   "outputs": [],
   "source": [
    "def calculate_class_weights(data_dir):\n",
    "    dataset = pd.read_csv(data_dir + \"/train.csv\")\n",
    "    train_labels = dataset.label.to_numpy()\n",
    "    class_weights = compute_class_weight('balanced', classes=np.unique(train_labels), y=train_labels)\n",
    "    print(\"class weights are {}\".format(class_weights))\n",
    "    return class_weights"
   ]
  },
  {
   "cell_type": "code",
   "execution_count": 7,
   "id": "547d8519",
   "metadata": {},
   "outputs": [
    {
     "name": "stdout",
     "output_type": "stream",
     "text": [
      "Loading tokenizer...\n",
      "Creating datasets...\n",
      "Loading model...\n"
     ]
    },
    {
     "name": "stderr",
     "output_type": "stream",
     "text": [
      "Some weights of BertForSequenceClassification were not initialized from the model checkpoint at bert-base-uncased and are newly initialized: ['classifier.bias', 'classifier.weight']\n",
      "You should probably TRAIN this model on a down-stream task to be able to use it for predictions and inference.\n",
      "/users/eleves-b/2021/thomas.robert.x21/.local/lib/python3.9/site-packages/accelerate/accelerator.py:432: FutureWarning: Passing the following arguments to `Accelerator` is deprecated and will be removed in version 1.0 of Accelerate: dict_keys(['dispatch_batches', 'split_batches', 'even_batches', 'use_seedable_sampler']). Please pass an `accelerate.DataLoaderConfiguration` instead: \n",
      "dataloader_config = DataLoaderConfiguration(dispatch_batches=None, split_batches=False, even_batches=True, use_seedable_sampler=True)\n",
      "  warnings.warn(\n",
      "huggingface/tokenizers: The current process just got forked, after parallelism has already been used. Disabling parallelism to avoid deadlocks...\n",
      "To disable this warning, you can either:\n",
      "\t- Avoid using `tokenizers` before the fork if possible\n",
      "\t- Explicitly set the environment variable TOKENIZERS_PARALLELISM=(true | false)\n"
     ]
    },
    {
     "name": "stdout",
     "output_type": "stream",
     "text": [
      "Calculating class weights...\n",
      "class weights are [0.53061771 8.66520979]\n"
     ]
    },
    {
     "name": "stderr",
     "output_type": "stream",
     "text": [
      "huggingface/tokenizers: The current process just got forked, after parallelism has already been used. Disabling parallelism to avoid deadlocks...\n",
      "To disable this warning, you can either:\n",
      "\t- Avoid using `tokenizers` before the fork if possible\n",
      "\t- Explicitly set the environment variable TOKENIZERS_PARALLELISM=(true | false)\n",
      "\u001b[34m\u001b[1mwandb\u001b[0m: Currently logged in as: \u001b[33mthomasrobertparis\u001b[0m. Use \u001b[1m`wandb login --relogin`\u001b[0m to force relogin\n",
      "\u001b[34m\u001b[1mwandb\u001b[0m: Using wandb-core as the SDK backend.  Please refer to https://wandb.me/wandb-core for more information.\n",
      "huggingface/tokenizers: The current process just got forked, after parallelism has already been used. Disabling parallelism to avoid deadlocks...\n",
      "To disable this warning, you can either:\n",
      "\t- Avoid using `tokenizers` before the fork if possible\n",
      "\t- Explicitly set the environment variable TOKENIZERS_PARALLELISM=(true | false)\n",
      "/users/eleves-b/2021/thomas.robert.x21/.local/lib/python3.9/site-packages/pydantic/main.py:314: UserWarning: Pydantic serializer warnings:\n",
      "  Expected `list[str]` but got `tuple` - serialized value may not be as expected\n",
      "  return self.__pydantic_serializer__.to_python(\n",
      "huggingface/tokenizers: The current process just got forked, after parallelism has already been used. Disabling parallelism to avoid deadlocks...\n",
      "To disable this warning, you can either:\n",
      "\t- Avoid using `tokenizers` before the fork if possible\n",
      "\t- Explicitly set the environment variable TOKENIZERS_PARALLELISM=(true | false)\n",
      "/users/eleves-b/2021/thomas.robert.x21/.local/lib/python3.9/site-packages/pydantic/main.py:314: UserWarning: Pydantic serializer warnings:\n",
      "  Expected `list[str]` but got `tuple` - serialized value may not be as expected\n",
      "  return self.__pydantic_serializer__.to_python(\n"
     ]
    },
    {
     "data": {
      "text/html": [
       "Tracking run with wandb version 0.19.2"
      ],
      "text/plain": [
       "<IPython.core.display.HTML object>"
      ]
     },
     "metadata": {},
     "output_type": "display_data"
    },
    {
     "data": {
      "text/html": [
       "Run data is saved locally in <code>/users/eleves-b/2021/thomas.robert.x21/Desktop/SNLP_XAI_hate-speech/wandb/run-20250226_182929-hjls0i6k</code>"
      ],
      "text/plain": [
       "<IPython.core.display.HTML object>"
      ]
     },
     "metadata": {},
     "output_type": "display_data"
    },
    {
     "data": {
      "text/html": [
       "Syncing run <strong><a href='https://wandb.ai/thomasrobertparis/hatecheck/runs/hjls0i6k' target=\"_blank\">experiment_1</a></strong> to <a href='https://wandb.ai/thomasrobertparis/hatecheck' target=\"_blank\">Weights & Biases</a> (<a href='https://wandb.me/developer-guide' target=\"_blank\">docs</a>)<br>"
      ],
      "text/plain": [
       "<IPython.core.display.HTML object>"
      ]
     },
     "metadata": {},
     "output_type": "display_data"
    },
    {
     "data": {
      "text/html": [
       " View project at <a href='https://wandb.ai/thomasrobertparis/hatecheck' target=\"_blank\">https://wandb.ai/thomasrobertparis/hatecheck</a>"
      ],
      "text/plain": [
       "<IPython.core.display.HTML object>"
      ]
     },
     "metadata": {},
     "output_type": "display_data"
    },
    {
     "data": {
      "text/html": [
       " View run at <a href='https://wandb.ai/thomasrobertparis/hatecheck/runs/hjls0i6k' target=\"_blank\">https://wandb.ai/thomasrobertparis/hatecheck/runs/hjls0i6k</a>"
      ],
      "text/plain": [
       "<IPython.core.display.HTML object>"
      ]
     },
     "metadata": {},
     "output_type": "display_data"
    },
    {
     "name": "stdout",
     "output_type": "stream",
     "text": [
      "No checkpoints found. training from scratch...\n"
     ]
    },
    {
     "data": {
      "text/html": [
       "\n",
       "    <div>\n",
       "      \n",
       "      <progress value='930' max='930' style='width:300px; height:20px; vertical-align: middle;'></progress>\n",
       "      [930/930 04:22, Epoch 3/3]\n",
       "    </div>\n",
       "    <table border=\"1\" class=\"dataframe\">\n",
       "  <thead>\n",
       " <tr style=\"text-align: left;\">\n",
       "      <th>Epoch</th>\n",
       "      <th>Training Loss</th>\n",
       "      <th>Validation Loss</th>\n",
       "    </tr>\n",
       "  </thead>\n",
       "  <tbody>\n",
       "    <tr>\n",
       "      <td>1</td>\n",
       "      <td>0.447700</td>\n",
       "      <td>0.436011</td>\n",
       "    </tr>\n",
       "    <tr>\n",
       "      <td>2</td>\n",
       "      <td>0.395500</td>\n",
       "      <td>0.388750</td>\n",
       "    </tr>\n",
       "    <tr>\n",
       "      <td>3</td>\n",
       "      <td>0.274200</td>\n",
       "      <td>0.533919</td>\n",
       "    </tr>\n",
       "  </tbody>\n",
       "</table><p>"
      ],
      "text/plain": [
       "<IPython.core.display.HTML object>"
      ]
     },
     "metadata": {},
     "output_type": "display_data"
    },
    {
     "name": "stderr",
     "output_type": "stream",
     "text": [
      "huggingface/tokenizers: The current process just got forked, after parallelism has already been used. Disabling parallelism to avoid deadlocks...\n",
      "To disable this warning, you can either:\n",
      "\t- Avoid using `tokenizers` before the fork if possible\n",
      "\t- Explicitly set the environment variable TOKENIZERS_PARALLELISM=(true | false)\n"
     ]
    },
    {
     "data": {
      "text/html": [],
      "text/plain": [
       "<IPython.core.display.HTML object>"
      ]
     },
     "metadata": {},
     "output_type": "display_data"
    },
    {
     "data": {
      "text/html": [
       "<br>    <style><br>        .wandb-row {<br>            display: flex;<br>            flex-direction: row;<br>            flex-wrap: wrap;<br>            justify-content: flex-start;<br>            width: 100%;<br>        }<br>        .wandb-col {<br>            display: flex;<br>            flex-direction: column;<br>            flex-basis: 100%;<br>            flex: 1;<br>            padding: 10px;<br>        }<br>    </style><br><div class=\"wandb-row\"><div class=\"wandb-col\"><h3>Run history:</h3><br/><table class=\"wandb\"><tr><td>eval/loss</td><td>▃▁█</td></tr><tr><td>eval/runtime</td><td>▁██</td></tr><tr><td>eval/samples_per_second</td><td>█▁▁</td></tr><tr><td>eval/steps_per_second</td><td>█▁▁</td></tr><tr><td>train/epoch</td><td>▁▁▁▁▁▂▂▂▂▂▃▃▃▃▃▄▄▄▄▅▅▅▅▅▅▆▆▆▆▆▇▇▇▇▇▇▇███</td></tr><tr><td>train/global_step</td><td>▁▁▁▁▂▂▂▂▃▃▃▃▄▄▄▄▄▄▄▄▅▅▅▅▅▅▅▅▆▆▆▆▆▆▆▇▇▇██</td></tr><tr><td>train/grad_norm</td><td>▂▄▂▂▃▃▃▂▂▂▂▂▁▄▅▃▂▂▂▂▂▂▂▂▂▂▂▁▄▂▁▁▂▃▁▃▁▄▁█</td></tr><tr><td>train/learning_rate</td><td>▂▃▄▆▇███▇▇▇▇▇▇▇▆▆▆▅▅▅▅▅▅▄▄▃▃▃▃▃▃▂▂▂▂▂▂▁▁</td></tr><tr><td>train/loss</td><td>█▆▆█▅▅▆▄▆▅▆▄▅▃▅▅▅▄▄▃▄▄▄▄▃▃▃▄▃▂▃▃▃▂▁▂▁▃▃▃</td></tr></table><br/></div><div class=\"wandb-col\"><h3>Run summary:</h3><br/><table class=\"wandb\"><tr><td>eval/loss</td><td>0.53392</td></tr><tr><td>eval/runtime</td><td>2.725</td></tr><tr><td>eval/samples_per_second</td><td>909.356</td></tr><tr><td>eval/steps_per_second</td><td>14.312</td></tr><tr><td>total_flos</td><td>2292380764263000.0</td></tr><tr><td>train/epoch</td><td>3</td></tr><tr><td>train/global_step</td><td>930</td></tr><tr><td>train/grad_norm</td><td>2.83612</td></tr><tr><td>train/learning_rate</td><td>0</td></tr><tr><td>train/loss</td><td>0.2742</td></tr><tr><td>train_loss</td><td>0.40155</td></tr><tr><td>train_runtime</td><td>263.318</td></tr><tr><td>train_samples_per_second</td><td>225.879</td></tr><tr><td>train_steps_per_second</td><td>3.532</td></tr></table><br/></div></div>"
      ],
      "text/plain": [
       "<IPython.core.display.HTML object>"
      ]
     },
     "metadata": {},
     "output_type": "display_data"
    },
    {
     "data": {
      "text/html": [
       " View run <strong style=\"color:#cdcd00\">experiment_1</strong> at: <a href='https://wandb.ai/thomasrobertparis/hatecheck/runs/hjls0i6k' target=\"_blank\">https://wandb.ai/thomasrobertparis/hatecheck/runs/hjls0i6k</a><br> View project at: <a href='https://wandb.ai/thomasrobertparis/hatecheck' target=\"_blank\">https://wandb.ai/thomasrobertparis/hatecheck</a><br>Synced 6 W&B file(s), 0 media file(s), 3 artifact file(s) and 0 other file(s)"
      ],
      "text/plain": [
       "<IPython.core.display.HTML object>"
      ]
     },
     "metadata": {},
     "output_type": "display_data"
    },
    {
     "data": {
      "text/html": [
       "Find logs at: <code>./wandb/run-20250226_182929-hjls0i6k/logs</code>"
      ],
      "text/plain": [
       "<IPython.core.display.HTML object>"
      ]
     },
     "metadata": {},
     "output_type": "display_data"
    },
    {
     "name": "stdout",
     "output_type": "stream",
     "text": [
      "Training done, saving...\n",
      "Training done, evaluating...\n"
     ]
    },
    {
     "data": {
      "text/html": [],
      "text/plain": [
       "<IPython.core.display.HTML object>"
      ]
     },
     "metadata": {},
     "output_type": "display_data"
    }
   ],
   "source": [
    "dataset_dir = \"./Data/\"\n",
    "output_dir = \"./Model/\"\n",
    "\n",
    "dataset = \"Davidson_hate\"\n",
    "\n",
    "dd_dir = dataset_dir + dataset\n",
    "oo_dir = output_dir + dataset\n",
    "\n",
    "if not os.path.exists(output_dir):\n",
    "    os.makedirs(output_dir)\n",
    "\n",
    "print(\"Loading tokenizer...\")\n",
    "tokenizer = BertTokenizerFast.from_pretrained('bert-base-uncased')\n",
    "\n",
    "print(\"Creating datasets...\")\n",
    "train_dataset, valid_dataset, test_dataset, tok_len = create_datasets(dd_dir, tokenizer)\n",
    "\n",
    "print(\"Loading model...\")\n",
    "model = BertForSequenceClassification.from_pretrained(\"bert-base-uncased\").to(DEVICE)\n",
    "model.resize_token_embeddings(tok_len)\n",
    "\n",
    "print(\"Calculating class weights...\")\n",
    "class_weights = calculate_class_weights(dd_dir)\n",
    "\n",
    "training_args = TrainingArguments(\n",
    "    seed=123,\n",
    "    output_dir=output_dir,  # output directory\n",
    "    num_train_epochs=3,  # total number of training epochs\n",
    "    warmup_steps=100,  # number of warmup steps for learning rate scheduler\n",
    "\n",
    "    learning_rate = 5e-5,\n",
    "    per_device_train_batch_size=64,  # batch size per device during training\n",
    "    weight_decay=0.01,  # strength of weight decay\n",
    "    \n",
    "    logging_steps=10,\n",
    "    report_to=\"wandb\",\n",
    "\n",
    "    per_device_eval_batch_size=64,  # batch size for evaluation\n",
    "    evaluation_strategy=\"epoch\",\n",
    "\n",
    "    save_steps=1e8,\n",
    ")\n",
    "\n",
    "trainer = WeightedTrainer(\n",
    "    model=model,\n",
    "    class_weights=class_weights,\n",
    "    args=training_args,\n",
    "    train_dataset=train_dataset,\n",
    "    eval_dataset=valid_dataset\n",
    ")\n",
    "\n",
    "wandb.init(project=\"hatecheck\", name=\"experiment_1\", config=training_args)\n",
    "\n",
    "# try:\n",
    "#     trainer.train(resume_from_checkpoint=True)\n",
    "#     print(\"resuming from checkpoint...\")\n",
    "# except ValueError:\n",
    "print(\"No checkpoints found. training from scratch...\")\n",
    "trainer.train()\n",
    "wandb.finish()\n",
    "\n",
    "print(\"Training done, saving...\")\n",
    "trainer.save_model(oo_dir)\n",
    "tokenizer.save_pretrained(oo_dir)\n",
    "\n",
    "print(\"Training done, evaluating...\")\n",
    "valid_preds = np.argmax(trainer.predict(valid_dataset)[0], axis=1) #should be numpy ndarray\n",
    "valid_labels = np.array(valid_dataset.labels)\n",
    "\n",
    "# cls_report_valid = classification_report(valid_labels, valid_preds, output_dict=True)\n",
    "# pickle.dump(cls_report_valid, open(oo_dir + \"/cls_report_valid.pickle\", \"wb\"))\n",
    "\n",
    "# test_preds = np.argmax(trainer.predict(test_dataset)[0], axis=1)\n",
    "# test_labels = np.array(test_dataset.labels)\n",
    "\n",
    "# cls_report_test = classification_report(test_labels, test_preds, output_dict=True)\n",
    "# pickle.dump(cls_report_test, open(oo_dir + \"/cls_report_test.pickle\", \"wb\"))"
   ]
  }
 ],
 "metadata": {
  "kernelspec": {
   "display_name": "base",
   "language": "python",
   "name": "python3"
  },
  "language_info": {
   "codemirror_mode": {
    "name": "ipython",
    "version": 3
   },
   "file_extension": ".py",
   "mimetype": "text/x-python",
   "name": "python",
   "nbconvert_exporter": "python",
   "pygments_lexer": "ipython3",
   "version": "3.9.13"
  }
 },
 "nbformat": 4,
 "nbformat_minor": 5
}
