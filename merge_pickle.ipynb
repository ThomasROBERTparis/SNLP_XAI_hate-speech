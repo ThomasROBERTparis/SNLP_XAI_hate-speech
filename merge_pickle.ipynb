{
 "cells": [
  {
   "cell_type": "code",
   "execution_count": 1,
   "metadata": {},
   "outputs": [
    {
     "name": "stdout",
     "output_type": "stream",
     "text": [
      "5\n"
     ]
    }
   ],
   "source": [
    "import pickle\n",
    "\n",
    "# Replace 'your_pickle_file.pkl' with the path to your pickle file\n",
    "pickle_file_path = 'Data/HateCheck_necc_suff_perturbations_0_20.pickle'\n",
    "\n",
    "# Open the pickle file in read-binary mode\n",
    "with open(pickle_file_path, 'rb') as file:\n",
    "    data = pickle.load(file)\n",
    "\n",
    "# Now 'data' contains the contents of the pickle file\n",
    "print(len(data))\n"
   ]
  },
  {
   "cell_type": "code",
   "execution_count": 2,
   "metadata": {},
   "outputs": [
    {
     "name": "stdout",
     "output_type": "stream",
     "text": [
      "dict_keys(['orig_texts', 'necc_perturbed', 'suff_perturbed', 'necc_masks', 'suff_masks'])\n"
     ]
    }
   ],
   "source": [
    "print(data.keys())"
   ]
  },
  {
   "cell_type": "code",
   "execution_count": 4,
   "metadata": {},
   "outputs": [
    {
     "name": "stdout",
     "output_type": "stream",
     "text": [
      "<class 'list'>\n",
      "<class 'str'>\n",
      "<class 'list'>\n",
      "<class 'list'>\n",
      "<class 'list'>\n",
      "<class 'list'>\n",
      "<class 'list'>\n",
      "<class 'numpy.ndarray'>\n",
      "<class 'list'>\n",
      "<class 'numpy.ndarray'>\n"
     ]
    }
   ],
   "source": [
    "for value in data.values():\n",
    "    print(type(value))\n",
    "    print(type(value[0]))"
   ]
  },
  {
   "cell_type": "code",
   "execution_count": 5,
   "metadata": {},
   "outputs": [
    {
     "name": "stdout",
     "output_type": "stream",
     "text": [
      "Merged data saved to Data/HateCheck_necc_suff_perturbations_merged.pickle\n"
     ]
    }
   ],
   "source": [
    "import pickle\n",
    "import os\n",
    "\n",
    "# List of pickle files to merge\n",
    "pickle_files = [\n",
    "    'Data/HateCheck_necc_suff_perturbations_0_20.pickle',\n",
    "    'Data/HateCheck_necc_suff_perturbations_20_40.pickle',\n",
    "    'Data/HateCheck_necc_suff_perturbations_40_60.pickle',\n",
    "    'Data/HateCheck_necc_suff_perturbations_60_80.pickle',\n",
    "    'Data/HateCheck_necc_suff_perturbations_80_100.pickle',\n",
    "    'Data/HateCheck_necc_suff_perturbations_100_120.pickle',\n",
    "    'Data/HateCheck_necc_suff_perturbations_120_140.pickle',\n",
    "    'Data/HateCheck_necc_suff_perturbations_140_160.pickle',\n",
    "    'Data/HateCheck_necc_suff_perturbations_160_180.pickle',\n",
    "    'Data/HateCheck_necc_suff_perturbations_180_200.pickle',\n",
    "    'Data/HateCheck_necc_suff_perturbations_200_220.pickle',\n",
    "    'Data/HateCheck_necc_suff_perturbations_220_240.pickle'\n",
    "]\n",
    "\n",
    "# Initialize an empty dictionary to hold the merged data\n",
    "merged_data = {\n",
    "    'orig_texts': [],\n",
    "    'necc_perturbed': [],\n",
    "    'suff_perturbed': [],\n",
    "    'necc_masks': [],\n",
    "    'suff_masks': []\n",
    "}\n",
    "\n",
    "# Iterate over each pickle file and merge the data\n",
    "for pickle_file in pickle_files:\n",
    "    with open(pickle_file, 'rb') as file:\n",
    "        data = pickle.load(file)\n",
    "        for key in merged_data.keys():\n",
    "            merged_data[key].extend(data[key])\n",
    "\n",
    "# Save the merged data to a new pickle file\n",
    "merged_pickle_file_path = 'Data/HateCheck_necc_suff_perturbations_merged.pickle'\n",
    "with open(merged_pickle_file_path, 'wb') as file:\n",
    "    pickle.dump(merged_data, file)\n",
    "\n",
    "print(f\"Merged data saved to {merged_pickle_file_path}\")"
   ]
  }
 ],
 "metadata": {
  "kernelspec": {
   "display_name": ".venv",
   "language": "python",
   "name": "python3"
  },
  "language_info": {
   "codemirror_mode": {
    "name": "ipython",
    "version": 3
   },
   "file_extension": ".py",
   "mimetype": "text/x-python",
   "name": "python",
   "nbconvert_exporter": "python",
   "pygments_lexer": "ipython3",
   "version": "3.11.3"
  }
 },
 "nbformat": 4,
 "nbformat_minor": 2
}
